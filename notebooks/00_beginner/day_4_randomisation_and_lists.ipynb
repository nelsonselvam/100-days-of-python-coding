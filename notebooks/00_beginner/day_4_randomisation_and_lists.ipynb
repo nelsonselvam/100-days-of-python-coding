{
 "cells": [
  {
   "cell_type": "markdown",
   "metadata": {},
   "source": [
    "## Randomization and Lists"
   ]
  },
  {
   "cell_type": "markdown",
   "metadata": {},
   "source": [
    "#### Random Module\n",
    "\n",
    "- Random function is introduce randomness in the programs.\n",
    "- PRNG - PsueoRandom Number Generator\n",
    "- Python uses Mersenne Twister to generate random numbers."
   ]
  },
  {
   "cell_type": "code",
   "execution_count": 63,
   "metadata": {},
   "outputs": [
    {
     "name": "stdout",
     "output_type": "stream",
     "text": [
      "10\n",
      "7\n",
      "0.8437918027029383\n",
      "4.2189590135146915\n"
     ]
    }
   ],
   "source": [
    "import random   # import the random module\n",
    "\n",
    "# using the randint()\n",
    "\n",
    "random_number = random.randint(1,10) # start and stop included\n",
    "print(random_number)\n",
    "\n",
    "\n",
    "random_number = random.randint(1,10) # start and stop included\n",
    "print(random_number)\n",
    "\n",
    "# printing a random float number\n",
    "\n",
    "random_float = random.random() # 0 to 1 (1 excluded)\n",
    "\n",
    "print(random_float)\n",
    "\n",
    "# printing a random float number between 0 and 5\n",
    "\n",
    "print(random_float*5)"
   ]
  },
  {
   "cell_type": "code",
   "execution_count": 81,
   "metadata": {},
   "outputs": [
    {
     "name": "stdout",
     "output_type": "stream",
     "text": [
      "Here goes the shot!\n",
      "Tails\n"
     ]
    }
   ],
   "source": [
    "# Tossing Program\n",
    "random_number = random.randint(0,1) # start and stop included\n",
    "\n",
    "print(\"Here goes the shot!\")\n",
    "\n",
    "if random_number == 0:\n",
    "    print(\"Tails\")\n",
    "elif random_number == 1:\n",
    "    print('Heads')"
   ]
  },
  {
   "cell_type": "markdown",
   "metadata": {},
   "source": [
    "#### Lists\n",
    "\n",
    "A data structure storing a sequence of data elements.  Represented by grouped elements separated by comma between open and closed square brackets."
   ]
  },
  {
   "cell_type": "code",
   "execution_count": 98,
   "metadata": {},
   "outputs": [
    {
     "name": "stdout",
     "output_type": "stream",
     "text": [
      "['Apple', 'Banana', 'Peach']\n",
      "['Apple', 'Banana', 'Peach', 'Strawberry']\n",
      "['Apple', 'Banana', 'Peach', 'Strawberry', 'Guava']\n",
      "['Apple', 'Banana', 'Peach', 'New Jersey', 'Guava']\n",
      "['Apple', 'Banana', 'Peach', 'New Jersey', 'Guava', 'Pear', 'Grapes', 'Pomegranate']\n",
      "['Apple', 'Banana']\n",
      "['Apple', 'Peach']\n"
     ]
    }
   ],
   "source": [
    "fruits = [\"Apple\", \"Banana\", \"Peach\"]\n",
    "\n",
    "print(fruits)\n",
    "\n",
    "fruits.append(\"Strawberry\")\n",
    "\n",
    "print(fruits)\n",
    "\n",
    "fruits.insert(4,\"Guava\")\n",
    "\n",
    "print(fruits)\n",
    "\n",
    "# list indexing\n",
    "fruits[3] =  \"New Jersey\"\n",
    "\n",
    "print(fruits)\n",
    "\n",
    "# extending a list\n",
    "fruits.extend([\"Pear\",\"Grapes\",\"Pomegranate\"])\n",
    "print(fruits)\n",
    "\n",
    "# list slicing\n",
    "\n",
    "print(fruits[0:2])\n",
    "print(fruits[0:4:2])  # start, stop, step\n"
   ]
  },
  {
   "cell_type": "code",
   "execution_count": 102,
   "metadata": {},
   "outputs": [
    {
     "name": "stdout",
     "output_type": "stream",
     "text": [
      "Emmitt Andrade is paying for the meal today!\n"
     ]
    }
   ],
   "source": [
    "# printing a random name from a given list of names\n",
    "\n",
    "names_in = input(\"Enter the names seperated by comma\")\n",
    "names = names_in.split(\",\")\n",
    "rand_int = random.randint(0,len(names)-1)\n",
    "\n",
    "# sample input : Moshe Romero , Eliza Tyler  ,Emmitt Andrade, Emmy Maldonado, Javier Wilson\n",
    "print(f\"{names[rand_int]} is paying for the meal today!\")"
   ]
  },
  {
   "cell_type": "markdown",
   "metadata": {},
   "source": [
    "#### Errors while handling list\n",
    "\n",
    "- IndexOutOfRangeError"
   ]
  },
  {
   "cell_type": "code",
   "execution_count": 103,
   "metadata": {},
   "outputs": [
    {
     "ename": "IndexError",
     "evalue": "list index out of range",
     "output_type": "error",
     "traceback": [
      "\u001b[1;31m---------------------------------------------------------------------------\u001b[0m",
      "\u001b[1;31mIndexError\u001b[0m                                Traceback (most recent call last)",
      "Cell \u001b[1;32mIn[103], line 2\u001b[0m\n\u001b[0;32m      1\u001b[0m names_list \u001b[38;5;241m=\u001b[39m [\u001b[38;5;124m\"\u001b[39m\u001b[38;5;124mMoshe Romero\u001b[39m\u001b[38;5;124m\"\u001b[39m , \u001b[38;5;124m\"\u001b[39m\u001b[38;5;124mEliza Tyler\u001b[39m\u001b[38;5;124m\"\u001b[39m  ,\u001b[38;5;124m\"\u001b[39m\u001b[38;5;124mEmmitt Andrade\u001b[39m\u001b[38;5;124m\"\u001b[39m, \u001b[38;5;124m\"\u001b[39m\u001b[38;5;124mEmmy Maldonado\u001b[39m\u001b[38;5;124m\"\u001b[39m, \u001b[38;5;124m\"\u001b[39m\u001b[38;5;124mJavier Wilson\u001b[39m\u001b[38;5;124m\"\u001b[39m]\n\u001b[1;32m----> 2\u001b[0m \u001b[38;5;28mprint\u001b[39m(\u001b[43mnames_list\u001b[49m\u001b[43m[\u001b[49m\u001b[38;5;241;43m7\u001b[39;49m\u001b[43m]\u001b[49m)\n",
      "\u001b[1;31mIndexError\u001b[0m: list index out of range"
     ]
    }
   ],
   "source": [
    "names_list = [\"Moshe Romero\" , \"Eliza Tyler\"  ,\"Emmitt Andrade\", \"Emmy Maldonado\", \"Javier Wilson\"]\n",
    "print(names_list[7])"
   ]
  },
  {
   "cell_type": "code",
   "execution_count": 104,
   "metadata": {},
   "outputs": [
    {
     "name": "stdout",
     "output_type": "stream",
     "text": [
      "[['Cricket', 'Hockey'], ['Baseball', 'Basketball']]\n"
     ]
    }
   ],
   "source": [
    "# nested lists\n",
    "indian_games = [\"Cricket\",\"Hockey\"]\n",
    "american_games = [\"Baseball\", \"Basketball\"]\n",
    "games = [indian_games,american_games] # nested list\n",
    "print(games)"
   ]
  },
  {
   "cell_type": "markdown",
   "metadata": {},
   "source": [
    "### Day 4 - Rock, Paper, Scissor"
   ]
  },
  {
   "cell_type": "code",
   "execution_count": 112,
   "metadata": {},
   "outputs": [
    {
     "name": "stdout",
     "output_type": "stream",
     "text": [
      " You chose \n",
      "\n",
      "    _______\n",
      "---'   ____)\n",
      "      (_____)\n",
      "      (_____)\n",
      "      (____)\n",
      "---.__(___)\n",
      "\n",
      " PC chose \n",
      "\n",
      "    _______\n",
      "---'   ____)____\n",
      "          ______)\n",
      "       __________)\n",
      "      (____)\n",
      "---.__(___)\n",
      "\n",
      "You won\n"
     ]
    }
   ],
   "source": [
    "users_choice = int(input(\"What do you choose? Type 0 for Rock, 1 for Paper or 2 for Scissors.\"))\n",
    "\n",
    "rock = '''\n",
    "    _______\n",
    "---'   ____)\n",
    "      (_____)\n",
    "      (_____)\n",
    "      (____)\n",
    "---.__(___)\n",
    "'''\n",
    "\n",
    "paper = '''\n",
    "    _______\n",
    "---'   ____)____\n",
    "          ______)\n",
    "          _______)\n",
    "         _______)\n",
    "---.__________)\n",
    "'''\n",
    "\n",
    "scissors = '''\n",
    "    _______\n",
    "---'   ____)____\n",
    "          ______)\n",
    "       __________)\n",
    "      (____)\n",
    "---.__(___)\n",
    "'''\n",
    "\n",
    "if users_choice == 0:\n",
    "    print(f\" You chose \\n{rock}\")\n",
    "elif users_choice == 1:\n",
    "    print(f\" You chose \\n{paper}\")\n",
    "elif users_choice == 2:\n",
    "    print(f\" You chose \\n{scissors}\")\n",
    "\n",
    "pcs_choice = random.randint(0,2)\n",
    "\n",
    "if pcs_choice == 0:\n",
    "    print(f\" PC chose \\n{rock}\")\n",
    "elif pcs_choice == 1:\n",
    "    print(f\" PC chose \\n{paper}\")\n",
    "elif pcs_choice == 2:\n",
    "    print(f\" PC chose \\n{scissors}\")\n",
    "\n",
    "if users_choice == pcs_choice:\n",
    "    print(\"Draw\")\n",
    "elif ((users_choice == 0 and pcs_choice ==1) or\n",
    "      (users_choice == 1 and pcs_choice ==2) or\n",
    "      (users_choice == 2 and pcs_choice ==0) ):\n",
    "    print(\"You lose\")\n",
    "elif ((users_choice == 0 and pcs_choice ==2) or\n",
    "      (users_choice == 1 and pcs_choice ==0) or\n",
    "      (users_choice == 2 and pcs_choice ==1) ):\n",
    "    print(\"You won\")\n",
    "else:\n",
    "    print(\"You entered an invalid number. You lose!\")\n",
    "    "
   ]
  }
 ],
 "metadata": {
  "kernelspec": {
   "display_name": "Python 3",
   "language": "python",
   "name": "python3"
  },
  "language_info": {
   "codemirror_mode": {
    "name": "ipython",
    "version": 3
   },
   "file_extension": ".py",
   "mimetype": "text/x-python",
   "name": "python",
   "nbconvert_exporter": "python",
   "pygments_lexer": "ipython3",
   "version": "3.12.1"
  }
 },
 "nbformat": 4,
 "nbformat_minor": 2
}
