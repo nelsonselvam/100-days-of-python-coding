{
 "cells": [
  {
   "cell_type": "markdown",
   "metadata": {},
   "source": [
    "## LOOPS"
   ]
  },
  {
   "cell_type": "markdown",
   "metadata": {},
   "source": [
    "#### for loops\n",
    "\n",
    "```\n",
    "for item in list_of_items:\n",
    "    #Do something to each item\n",
    "```"
   ]
  },
  {
   "cell_type": "code",
   "execution_count": 7,
   "metadata": {},
   "outputs": [
    {
     "name": "stdout",
     "output_type": "stream",
     "text": [
      "1. Single Responsibility Principle\n",
      "2. Open Closed Principle\n",
      "3. Liskov Substitution Principle\n",
      "4. Interface Segregation Principle\n",
      "5. Dependency Inversion Principle\n",
      "\n",
      "['Single Responsibility Principle', 'Open Closed Principle', 'Liskov Substitution Principle', 'Interface Segregation Principle', 'Dependency Inversion Principle']\n"
     ]
    }
   ],
   "source": [
    "solid_principles = [\"Single Responsibility Principle\", \"Open Closed Principle\", \"Liskov Substitution Principle\", \"Interface Segregation Principle\", \"Dependency Inversion Principle\"]\n",
    "i = 1\n",
    "for principle in solid_principles:\n",
    "    print(str(i)+\". \"+principle)\n",
    "    i+=1\n",
    "print()\n",
    "print(solid_principles)    "
   ]
  },
  {
   "cell_type": "code",
   "execution_count": 22,
   "metadata": {},
   "outputs": [
    {
     "name": "stdout",
     "output_type": "stream",
     "text": [
      "['152', '134', '145', '167', '178']\n",
      "5\n",
      "[152, 134, 145, 167, 178]\n",
      "776\n",
      "155.2\n"
     ]
    }
   ],
   "source": [
    "# print average height of students in a class\n",
    "# 152 134 145 167 178\n",
    "\n",
    "input_heights = input(\"Enter the students heights: \")\n",
    "\n",
    "student_heights = input_heights.split()\n",
    "print(student_heights)\n",
    "print(len(student_heights))\n",
    "\n",
    "for n in range(0, len(student_heights)):\n",
    "    student_heights[n] = int(student_heights[n])\n",
    "    \n",
    "sum_heights = 0\n",
    "print(student_heights)\n",
    "\n",
    "for n in student_heights:\n",
    "    sum_heights += int(n)\n",
    "    \n",
    "avg_height = sum_heights/len(student_heights)\n",
    "print(sum_heights)\n",
    "print(avg_height)"
   ]
  },
  {
   "cell_type": "code",
   "execution_count": 25,
   "metadata": {},
   "outputs": [
    {
     "name": "stdout",
     "output_type": "stream",
     "text": [
      "['45', '67', '36', '90', '74']\n",
      "90\n"
     ]
    }
   ],
   "source": [
    "# find the max students score \n",
    "# 45 67 36 90 74\n",
    "\n",
    "input_scores = input(\"Enter the students heights: \")\n",
    "\n",
    "student_scores = input_scores.split()\n",
    "print(student_scores)\n",
    "\n",
    "for n in range(0, len(student_scores)):\n",
    "    student_scores[n] = int(student_scores[n])\n",
    "\n",
    "max_score = 0\n",
    "\n",
    "for score in student_scores:\n",
    "    if score>max_score:\n",
    "        max_score=score\n",
    "\n",
    "print(max_score)"
   ]
  },
  {
   "cell_type": "code",
   "execution_count": null,
   "metadata": {},
   "outputs": [],
   "source": []
  },
  {
   "cell_type": "markdown",
   "metadata": {},
   "source": [
    "#### for loops and range function\n",
    "\n",
    "```\n",
    "for item in range(start,stop,step):  # stop excluded\n",
    "    #Do something to each item\n",
    "```"
   ]
  },
  {
   "cell_type": "code",
   "execution_count": 29,
   "metadata": {},
   "outputs": [
    {
     "name": "stdout",
     "output_type": "stream",
     "text": [
      "5050\n"
     ]
    }
   ],
   "source": [
    "total = 0\n",
    "for number in range(0,101):\n",
    "    total += number\n",
    "print(total)"
   ]
  },
  {
   "cell_type": "code",
   "execution_count": 35,
   "metadata": {},
   "outputs": [
    {
     "name": "stdout",
     "output_type": "stream",
     "text": [
      "702\n"
     ]
    }
   ],
   "source": [
    "target = int(input(\"Enter a number between 0 and 1000\"))\n",
    "\n",
    "even_total = 0\n",
    "\n",
    "for i in range(0,target+1):\n",
    "    if i%2==0:\n",
    "        even_total += i\n",
    "\n",
    "print(even_total)\n",
    "        "
   ]
  },
  {
   "cell_type": "markdown",
   "metadata": {},
   "source": [
    "##### fizz buzz"
   ]
  },
  {
   "cell_type": "code",
   "execution_count": 36,
   "metadata": {},
   "outputs": [
    {
     "name": "stdout",
     "output_type": "stream",
     "text": [
      "1\n",
      "2\n",
      "Fizz\n",
      "4\n",
      "Buzz\n",
      "Fizz\n",
      "7\n",
      "8\n",
      "Fizz\n",
      "Buzz\n",
      "11\n",
      "Fizz\n",
      "13\n",
      "14\n",
      "FizzBuzz\n",
      "16\n",
      "17\n",
      "Fizz\n",
      "19\n",
      "Buzz\n",
      "Fizz\n",
      "22\n",
      "23\n",
      "Fizz\n",
      "Buzz\n",
      "26\n",
      "Fizz\n",
      "28\n",
      "29\n",
      "FizzBuzz\n",
      "31\n",
      "32\n",
      "Fizz\n",
      "34\n",
      "Buzz\n",
      "Fizz\n",
      "37\n",
      "38\n",
      "Fizz\n",
      "Buzz\n",
      "41\n",
      "Fizz\n",
      "43\n",
      "44\n",
      "FizzBuzz\n",
      "46\n",
      "47\n",
      "Fizz\n",
      "49\n",
      "Buzz\n",
      "Fizz\n",
      "52\n",
      "53\n",
      "Fizz\n",
      "Buzz\n",
      "56\n",
      "Fizz\n",
      "58\n",
      "59\n",
      "FizzBuzz\n",
      "61\n",
      "62\n",
      "Fizz\n",
      "64\n",
      "Buzz\n",
      "Fizz\n",
      "67\n",
      "68\n",
      "Fizz\n",
      "Buzz\n",
      "71\n",
      "Fizz\n",
      "73\n",
      "74\n",
      "FizzBuzz\n",
      "76\n",
      "77\n",
      "Fizz\n",
      "79\n",
      "Buzz\n",
      "Fizz\n",
      "82\n",
      "83\n",
      "Fizz\n",
      "Buzz\n",
      "86\n",
      "Fizz\n",
      "88\n",
      "89\n",
      "FizzBuzz\n",
      "91\n",
      "92\n",
      "Fizz\n",
      "94\n",
      "Buzz\n",
      "Fizz\n",
      "97\n",
      "98\n",
      "Fizz\n",
      "Buzz\n"
     ]
    }
   ],
   "source": [
    "for i in range(1,101):\n",
    "    if (i%3==0 and i%5==0):\n",
    "        print(\"FizzBuzz\")\n",
    "    elif(i%3==0 ):\n",
    "        print(\"Fizz\")\n",
    "    elif(i%5==0):\n",
    "        print(\"Buzz\")\n",
    "    else:\n",
    "        print(i)\n",
    "    "
   ]
  },
  {
   "cell_type": "markdown",
   "metadata": {},
   "source": [
    "### Day 5 - Password Generator"
   ]
  },
  {
   "cell_type": "code",
   "execution_count": 11,
   "metadata": {},
   "outputs": [
    {
     "name": "stdout",
     "output_type": "stream",
     "text": [
      "Welcome to the PyPassword Generator!\n",
      "iLhE$#&*%9\n"
     ]
    }
   ],
   "source": [
    "#Password Generator Project\n",
    "import random\n",
    "letters = ['a', 'b', 'c', 'd', 'e', 'f', 'g', 'h', 'i', 'j', 'k', 'l', 'm', 'n', 'o', 'p', 'q', 'r', 's', 't', 'u', 'v', 'w', 'x', 'y', 'z', 'A', 'B', 'C', 'D', 'E', 'F', 'G', 'H', 'I', 'J', 'K', 'L', 'M', 'N', 'O', 'P', 'Q', 'R', 'S', 'T', 'U', 'V', 'W', 'X', 'Y', 'Z']\n",
    "numbers = ['0', '1', '2', '3', '4', '5', '6', '7', '8', '9']\n",
    "symbols = ['!', '#', '$', '%', '&', '(', ')', '*', '+']\n",
    "\n",
    "print(\"Welcome to the PyPassword Generator!\")\n",
    "nr_letters= int(input(\"How many letters would you like in your password?\\n\")) \n",
    "nr_symbols = int(input(f\"How many symbols would you like?\\n\"))\n",
    "nr_numbers = int(input(f\"How many numbers would you like?\\n\"))\n",
    "\n",
    "#Eazy Level - Order not randomised:\n",
    "#e.g. 4 letter, 2 symbol, 2 number = JduE&!91\n",
    "\n",
    "# Hard Level - Order randomised\n",
    "\n",
    "password = \"\"\n",
    "\n",
    "for i in range(0,nr_letters):\n",
    "    password += letters[random.randint(0,len(letters))]\n",
    "\n",
    "for i in range(0,nr_symbols):\n",
    "    password += symbols[random.randint(0,len(symbols))]\n",
    "    \n",
    "for i in range(0,nr_numbers):\n",
    "    password += numbers[random.randint(0,len(numbers))]\n",
    "\n",
    "print(password)"
   ]
  },
  {
   "cell_type": "code",
   "execution_count": 14,
   "metadata": {},
   "outputs": [
    {
     "name": "stdout",
     "output_type": "stream",
     "text": [
      "Welcome to the PyPassword Generator!\n",
      "uPMgN($$64\n",
      "password before randomization : ['z', 'a', 'T', 'r', 'd', '+', ')', '*', '3', '6']\n",
      "password after randomization : ['3', '+', 'z', 'T', 'd', ')', 'a', 'r', '6', '*']\n",
      "3+zTd)ar6*\n"
     ]
    }
   ],
   "source": [
    "## actual solution\n",
    "\n",
    "#Password Generator Project\n",
    "import random\n",
    "letters = ['a', 'b', 'c', 'd', 'e', 'f', 'g', 'h', 'i', 'j', 'k', 'l', 'm', 'n', 'o', 'p', 'q', 'r', 's', 't', 'u', 'v', 'w', 'x', 'y', 'z', 'A', 'B', 'C', 'D', 'E', 'F', 'G', 'H', 'I', 'J', 'K', 'L', 'M', 'N', 'O', 'P', 'Q', 'R', 'S', 'T', 'U', 'V', 'W', 'X', 'Y', 'Z']\n",
    "numbers = ['0', '1', '2', '3', '4', '5', '6', '7', '8', '9']\n",
    "symbols = ['!', '#', '$', '%', '&', '(', ')', '*', '+']\n",
    "\n",
    "print(\"Welcome to the PyPassword Generator!\")\n",
    "nr_letters= int(input(\"How many letters would you like in your password?\\n\")) \n",
    "nr_symbols = int(input(f\"How many symbols would you like?\\n\"))\n",
    "nr_numbers = int(input(f\"How many numbers would you like?\\n\"))\n",
    "\n",
    "#Eazy Level - Order not randomised:\n",
    "#e.g. 4 letter, 2 symbol, 2 number = JduE&!91\n",
    "\n",
    "# Hard Level - Order randomised\n",
    "\n",
    "password = \"\"\n",
    "\n",
    "for i in range(1,nr_letters+1):\n",
    "    password += random.choice(letters)\n",
    "\n",
    "for i in range(1,nr_symbols+1):\n",
    "    password += random.choice(symbols)\n",
    "    \n",
    "for i in range(1,nr_numbers+1):\n",
    "    password += random.choice(numbers)\n",
    "\n",
    "print(password)\n",
    "\n",
    "# for hard level, make use of a list instead of a string, shuffle the letters using random.shuffle() function\n",
    "\n",
    "password_list = []\n",
    "\n",
    "for i in range(1,nr_letters+1):\n",
    "    password_list.append(random.choice(letters))\n",
    "\n",
    "for i in range(1,nr_symbols+1):\n",
    "    password_list.append(random.choice(symbols))\n",
    "    \n",
    "for i in range(1,nr_numbers+1):\n",
    "    password_list.append(random.choice(numbers))\n",
    "\n",
    "print(f\"password before randomization : {password_list}\")\n",
    "\n",
    "random.shuffle(password_list)\n",
    "print(f\"password after randomization : {password_list}\")\n",
    "\n",
    "password=\"\"\n",
    "\n",
    "for chr in password_list:\n",
    "    password += chr\n",
    "    \n",
    "print(password)"
   ]
  }
 ],
 "metadata": {
  "kernelspec": {
   "display_name": "Python 3",
   "language": "python",
   "name": "python3"
  },
  "language_info": {
   "codemirror_mode": {
    "name": "ipython",
    "version": 3
   },
   "file_extension": ".py",
   "mimetype": "text/x-python",
   "name": "python",
   "nbconvert_exporter": "python",
   "pygments_lexer": "ipython3",
   "version": "3.12.1"
  }
 },
 "nbformat": 4,
 "nbformat_minor": 2
}
