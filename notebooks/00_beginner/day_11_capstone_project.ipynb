{
 "cells": [
  {
   "cell_type": "code",
   "execution_count": 7,
   "metadata": {},
   "outputs": [
    {
     "name": "stdout",
     "output_type": "stream",
     "text": [
      "Your cards: [10, 3], current_score: 13\n",
      "Computer's first card: 10\n"
     ]
    }
   ],
   "source": [
    "import random\n",
    "\n",
    "cards = [11, 2, 3, 4, 5, 6, 7, 8, 9, 10, 10, 10, 10]\n",
    "\n",
    "def get_user_choice():\n",
    "    \n",
    "    user_choice = input(\"Do you want to play a game of Blackjack? Type 'y' or 'n':\")\n",
    "\n",
    "    if (user_choice == \"y\"):\n",
    "        user_choice = True \n",
    "    else: \n",
    "        user_choice = False\n",
    "\n",
    "    return user_choice\n",
    "\n",
    "user_cards = []\n",
    "dealer_cards = []\n",
    "\n",
    "user_cards.append(random.choice(cards))\n",
    "dealer_cards.append(random.choice(cards))\n",
    "user_cards.append(random.choice(cards))\n",
    "dealer_cards.append(random.choice(cards))\n",
    "\n",
    "user_score = sum(user_cards)\n",
    "dealer_score = sum(dealer_cards)\n",
    "\n",
    "print(f\"Your cards: {user_cards}, current_score: {user_score}\")\n",
    "print(f\"Computer's first card: {dealer_cards[0]}\")\n",
    "\n",
    "if user_score == 21 && dealer_score == 21:\n",
    "    print(\"Push\")\n",
    "elif user_score == 21 or dealer_score > 21:\n",
    "    print(\"You win :)\")\n",
    "elif dealer_score == 21:\n",
    "    print(\"You lose :( Opponent has black jack)\")\n",
    "\n",
    "while (user_choice):\n",
    "    \n",
    "    get_user_choice()\n",
    "    \n",
    "    user_choice = False\n",
    "    "
   ]
  }
 ],
 "metadata": {
  "kernelspec": {
   "display_name": "Python 3",
   "language": "python",
   "name": "python3"
  },
  "language_info": {
   "codemirror_mode": {
    "name": "ipython",
    "version": 3
   },
   "file_extension": ".py",
   "mimetype": "text/x-python",
   "name": "python",
   "nbconvert_exporter": "python",
   "pygments_lexer": "ipython3",
   "version": "3.11.0"
  }
 },
 "nbformat": 4,
 "nbformat_minor": 2
}
