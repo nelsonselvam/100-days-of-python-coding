{
 "cells": [
  {
   "cell_type": "markdown",
   "metadata": {},
   "source": [
    "## Function Parameters"
   ]
  },
  {
   "cell_type": "markdown",
   "metadata": {},
   "source": [
    "#### function with and without parameters\n",
    "\n",
    "```\n",
    "    def my_function():\n",
    "        # do something\n",
    "\n",
    "```"
   ]
  },
  {
   "cell_type": "code",
   "execution_count": null,
   "metadata": {},
   "outputs": [],
   "source": [
    "def greet():\n",
    "    print(\"Hi!\")\n",
    "    print(\"Hello!\")\n",
    "    print(\"Hola!\")\n",
    "\n",
    "greet()"
   ]
  },
  {
   "cell_type": "code",
   "execution_count": null,
   "metadata": {},
   "outputs": [],
   "source": [
    "def greet_with_name(name):  # PARAMETER\n",
    "    print(f\"Hi! {name}\")\n",
    "    print(\"Hello!\")\n",
    "    print(\"Hola!\")\n",
    "\n",
    "greet_with_name(\"Minato\")   # ARGUMENT"
   ]
  },
  {
   "cell_type": "markdown",
   "metadata": {},
   "source": [
    "#### Positional vs Keyword Arguments"
   ]
  },
  {
   "cell_type": "code",
   "execution_count": null,
   "metadata": {},
   "outputs": [],
   "source": [
    "def greet_with(name,location):\n",
    "    print(f\"Hi! {name}\")\n",
    "    print(f\"How is the weather at {location}?\")\n",
    "    \n",
    "\n",
    "greet_with(\"Tobirama\",\"Leaf Village\")\n"
   ]
  },
  {
   "cell_type": "code",
   "execution_count": null,
   "metadata": {},
   "outputs": [],
   "source": [
    "greet_with(\"Sand Village\",\"Garuko\")\n",
    "greet_with(location=\"Sand Village\",name=\"Garuko\")\n",
    "\n",
    "greet_with(\"Sand Village\",name=\"Garuko\") # this will not work and both the keywords need to be specified\n"
   ]
  },
  {
   "cell_type": "code",
   "execution_count": null,
   "metadata": {},
   "outputs": [],
   "source": [
    "# calcualate the tonnes of paint needed\n",
    "test_h = int(input(\"Enter the height of the wall\"))\n",
    "test_w = int(input(\"Enter the width of the wall\"))\n",
    "coverage = 5\n",
    "\n",
    "def paint_calc(height, width , cover):\n",
    "    return (height * width)/cover\n",
    "\n",
    "area = paint_calc(test_h , cover = coverage,  width=test_w)\n",
    "\n",
    "print (f\"You need {area} tonnes to paint the wall!!\")"
   ]
  },
  {
   "cell_type": "code",
   "execution_count": null,
   "metadata": {},
   "outputs": [],
   "source": [
    "num = int(input(\"Enter an integer to check.\"))\n",
    "\n",
    "def prime_checker(num):\n",
    "    \n",
    "    is_number_prime = True\n",
    "    \n",
    "    for i in range(2,num):\n",
    "        if num % i == 0:\n",
    "            is_number_prime = False\n",
    "\n",
    "    if is_number_prime:\n",
    "        print(\"Number is prime\")\n",
    "    else:\n",
    "        print(\"Number is non-prime\")\n",
    "        \n",
    "prime_number_checker(num)"
   ]
  },
  {
   "cell_type": "markdown",
   "metadata": {},
   "source": [
    "### Day 8 - CAESAR CIPHER"
   ]
  },
  {
   "cell_type": "code",
   "execution_count": 4,
   "metadata": {},
   "outputs": [
    {
     "ename": "ValueError",
     "evalue": "' ' is not in list",
     "output_type": "error",
     "traceback": [
      "\u001b[1;31m---------------------------------------------------------------------------\u001b[0m",
      "\u001b[1;31mValueError\u001b[0m                                Traceback (most recent call last)",
      "Cell \u001b[1;32mIn[4], line 36\u001b[0m\n\u001b[0;32m     33\u001b[0m     \u001b[38;5;28mprint\u001b[39m(\u001b[38;5;124m'\u001b[39m\u001b[38;5;124m'\u001b[39m\u001b[38;5;241m.\u001b[39mjoin(text_list))\n\u001b[0;32m     35\u001b[0m \u001b[38;5;28;01mif\u001b[39;00m \u001b[38;5;124m\"\u001b[39m\u001b[38;5;124mencode\u001b[39m\u001b[38;5;124m\"\u001b[39m \u001b[38;5;241m==\u001b[39m direction:\n\u001b[1;32m---> 36\u001b[0m     \u001b[43mencode\u001b[49m\u001b[43m(\u001b[49m\u001b[43mtext\u001b[49m\u001b[43m,\u001b[49m\u001b[43mshift\u001b[49m\u001b[43m)\u001b[49m\n\u001b[0;32m     37\u001b[0m \u001b[38;5;28;01melif\u001b[39;00m \u001b[38;5;124m\"\u001b[39m\u001b[38;5;124mdecode\u001b[39m\u001b[38;5;124m\"\u001b[39m \u001b[38;5;241m==\u001b[39m direction:\n\u001b[0;32m     38\u001b[0m     decode(text,shift)\n",
      "Cell \u001b[1;32mIn[4], line 13\u001b[0m, in \u001b[0;36mencode\u001b[1;34m(text, shift)\u001b[0m\n\u001b[0;32m      9\u001b[0m \u001b[38;5;28;01mdef\u001b[39;00m \u001b[38;5;21mencode\u001b[39m(text,shift):\n\u001b[0;32m     11\u001b[0m     \u001b[38;5;28;01mfor\u001b[39;00m i \u001b[38;5;129;01min\u001b[39;00m \u001b[38;5;28mrange\u001b[39m(\u001b[38;5;28mlen\u001b[39m(text)):\n\u001b[1;32m---> 13\u001b[0m         shift_val \u001b[38;5;241m=\u001b[39m shift \u001b[38;5;241m+\u001b[39m \u001b[43malphabet\u001b[49m\u001b[38;5;241;43m.\u001b[39;49m\u001b[43mindex\u001b[49m\u001b[43m(\u001b[49m\u001b[43mtext_list\u001b[49m\u001b[43m[\u001b[49m\u001b[43mi\u001b[49m\u001b[43m]\u001b[49m\u001b[43m)\u001b[49m\n\u001b[0;32m     15\u001b[0m         \u001b[38;5;28;01mif\u001b[39;00m shift_val\u001b[38;5;241m>\u001b[39m\u001b[38;5;241m25\u001b[39m:\n\u001b[0;32m     16\u001b[0m             shift_val \u001b[38;5;241m-\u001b[39m\u001b[38;5;241m=\u001b[39m \u001b[38;5;241m26\u001b[39m\n",
      "\u001b[1;31mValueError\u001b[0m: ' ' is not in list"
     ]
    }
   ],
   "source": [
    "alphabet = ['a', 'b', 'c', 'd', 'e', 'f', 'g', 'h', 'i', 'j', 'k', 'l', 'm', 'n', 'o', 'p', 'q', 'r', 's', 't', 'u', 'v', 'w', 'x', 'y', 'z']\n",
    "\n",
    "direction = input(\"Type 'encode' to encrypt, type 'decode' to decrypt:\\n\")\n",
    "text = input(\"Type your message:\\n\").lower()\n",
    "shift = int(input(\"Type the shift number:\\n\"))\n",
    "\n",
    "text_list = [lttr for lttr in text]\n",
    "\n",
    "def encode(text,shift):\n",
    "\n",
    "    for i in range(len(text)):\n",
    "        \n",
    "        shift_val = shift + alphabet.index(text_list[i])\n",
    "        \n",
    "        if shift_val>25:\n",
    "            shift_val -= 26\n",
    "        \n",
    "        text_list[i] = alphabet[shift_val]\n",
    "\n",
    "    print(''.join(text_list))\n",
    "\n",
    "def decode(text,shift):\n",
    "    \n",
    "    for i in range(len(text)):\n",
    "        \n",
    "        shift_val = alphabet.index(text_list[i]) - shift\n",
    "        \n",
    "        if shift_val<0:\n",
    "            shift_val += 26\n",
    "        \n",
    "        text_list[i] = alphabet[shift_val]\n",
    "    \n",
    "    print(''.join(text_list))\n",
    "    \n",
    "if \"encode\" == direction:\n",
    "    encode(text,shift)\n",
    "elif \"decode\" == direction:\n",
    "    decode(text,shift)\n"
   ]
  },
  {
   "cell_type": "code",
   "execution_count": 11,
   "metadata": {},
   "outputs": [
    {
     "name": "stdout",
     "output_type": "stream",
     "text": [
      "           \n",
      " ,adPPYba, ,adPPYYba,  ,adPPYba, ,adPPYba, ,adPPYYba, 8b,dPPYba,  \n",
      "a8\"     \"\" \"\"     `Y8 a8P_____88 I8[    \"\" \"\"     `Y8 88P'   \"Y8  \n",
      "8b         ,adPPPPP88 8PP\"  `\"Y8ba,  ,adPPPPP88 88          \n",
      "\"8a,   ,aa 88,    ,88 \"8b,   ,aa aa    ]8I 88,    ,88 88          \n",
      " `\"Ybbd8\"' `\"8bbdP\"Y8  `\"Ybbd8\"' `\"YbbdP\"' `\"8bbdP\"Y8 88   \n",
      "            88             88                                 \n",
      "           \"\"             88                                 \n",
      "                          88                                 \n",
      " ,adPPYba, 88 8b,dPPYba,  88,dPPYba,   ,adPPYba, 8b,dPPYba,  \n",
      "a8\"     \"\" 88 88P'    \"8a 88P'    \"8a a8P_____88 88P'   \"Y8  \n",
      "8b         88 88       d8 88       88 8PP\" 88          \n",
      "\"8a,   ,aa 88 88b,   ,a8\" 88       88 \"8b,   ,aa 88          \n",
      " `\"Ybbd8\"' 88 88`YbbdP\"'  88       88  `\"Ybbd8\"' 88          \n",
      "              88                                             \n",
      "              88           \n",
      "\n",
      "khoor 3\n"
     ]
    }
   ],
   "source": [
    "import logoart\n",
    "\n",
    "print(logoart.logo)\n",
    "\n",
    "alphabet = ['a', 'b', 'c', 'd', 'e', 'f', 'g', 'h', 'i', 'j', 'k', 'l', 'm', 'n', 'o', 'p', 'q', 'r', 's', 't', 'u', 'v', 'w', 'x', 'y', 'z']\n",
    "\n",
    "user_continue = True\n",
    "\n",
    "def caesar(direction,text ,shift):\n",
    "    \n",
    "    for i in range(len(text)):\n",
    "        \n",
    "        if text_list[i] in alphabet:\n",
    "            \n",
    "            if \"decode\" == direction:\n",
    "            \n",
    "                shift_val = alphabet.index(text_list[i]) - shift\n",
    "            \n",
    "                if shift_val<0:\n",
    "                    shift_val += 26\n",
    "                        \n",
    "            elif \"encode\" == direction:\n",
    "                \n",
    "                shift_val = shift + alphabet.index(text_list[i])\n",
    "            \n",
    "                if shift_val>25:\n",
    "                    shift_val -= 26\n",
    "                \n",
    "            text_list[i] = alphabet[shift_val]\n",
    "       \n",
    "    \n",
    "    print(''.join(text_list))\n",
    "\n",
    "\n",
    "while(user_continue):\n",
    "    \n",
    "    direction = input(\"Type 'encode' to encrypt, type 'decode' to decrypt:\\n\")\n",
    "    text = input(\"Type your message:\\n\").lower()\n",
    "    shift = int(input(\"Type the shift number:\\n\"))\n",
    "    \n",
    "    if shift>26:\n",
    "        shift %= 26\n",
    "\n",
    "    text_list = [lttr for lttr in text]\n",
    "        \n",
    "    caesar(direction,text ,shift)\n",
    "    \n",
    "    user_continue = input(\"If you want to continue 'Yes' else type 'No'\")\n",
    "        \n",
    "    if 'no' == user_continue.lower():\n",
    "        user_continue = False\n"
   ]
  }
 ],
 "metadata": {
  "kernelspec": {
   "display_name": "Python 3",
   "language": "python",
   "name": "python3"
  },
  "language_info": {
   "codemirror_mode": {
    "name": "ipython",
    "version": 3
   },
   "file_extension": ".py",
   "mimetype": "text/x-python",
   "name": "python",
   "nbconvert_exporter": "python",
   "pygments_lexer": "ipython3",
   "version": "3.11.0"
  }
 },
 "nbformat": 4,
 "nbformat_minor": 2
}
