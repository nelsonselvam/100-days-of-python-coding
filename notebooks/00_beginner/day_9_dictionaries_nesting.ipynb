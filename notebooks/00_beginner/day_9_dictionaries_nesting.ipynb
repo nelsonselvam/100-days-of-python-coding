{
 "cells": [
  {
   "cell_type": "markdown",
   "metadata": {},
   "source": [
    "## Dictionaries and Nesting\n"
   ]
  },
  {
   "cell_type": "markdown",
   "metadata": {},
   "source": [
    "#### Dictionary\n",
    "\n",
    "key value pairs represented by `{key : value}`\n"
   ]
  },
  {
   "cell_type": "code",
   "execution_count": 28,
   "metadata": {},
   "outputs": [
    {
     "name": "stdout",
     "output_type": "stream",
     "text": [
      "{'bug': 'A software bug is an error, flaw or fault in the design, development, or operation of computer software.', 'Loop': 'Loops are a programming element that repeat a portion of code a set number of times until the desired process is complete.'}\n",
      "A software bug is an error, flaw or fault in the design, development, or operation of computer software.\n"
     ]
    }
   ],
   "source": [
    "programming_dictionary = {\n",
    "    \"bug\":\"A software bug is an error, flaw or fault in the design, development, or operation of computer software.\"\n",
    "    ,\n",
    "    \"Loop\":\"Loops are a programming element that repeat a portion of code a set number of times until the desired process is complete.\"\n",
    "}\n",
    "\n",
    "print(programming_dictionary)\n",
    "\n",
    "print(programming_dictionary['bug'])"
   ]
  },
  {
   "cell_type": "code",
   "execution_count": 29,
   "metadata": {},
   "outputs": [
    {
     "name": "stdout",
     "output_type": "stream",
     "text": [
      "Functions are \"self contained\" modules of code that accomplish a specific task.\n"
     ]
    }
   ],
   "source": [
    "# adding a Key value Pair to the dictionary\n",
    "programming_dictionary['function'] = 'Functions are \"self contained\" modules of code that accomplish a specific task.'\n",
    "\n",
    "print(programming_dictionary['function'])"
   ]
  },
  {
   "cell_type": "code",
   "execution_count": 12,
   "metadata": {},
   "outputs": [],
   "source": [
    "# clearing the items in the dictionary\n",
    "# same way of creating an empty dictionary\n",
    "\n",
    "programming_dictionary = {}"
   ]
  },
  {
   "cell_type": "code",
   "execution_count": 15,
   "metadata": {},
   "outputs": [
    {
     "name": "stdout",
     "output_type": "stream",
     "text": [
      "🐛\n"
     ]
    }
   ],
   "source": [
    "# editing the dictionary\n",
    "programming_dictionary['bug'] = \"🐛\"\n",
    "\n",
    "print(programming_dictionary['bug'])"
   ]
  },
  {
   "cell_type": "code",
   "execution_count": 31,
   "metadata": {},
   "outputs": [
    {
     "name": "stdout",
     "output_type": "stream",
     "text": [
      "bug\n",
      "A software bug is an error, flaw or fault in the design, development, or operation of computer software.\n",
      "Loop\n",
      "Loops are a programming element that repeat a portion of code a set number of times until the desired process is complete.\n",
      "function\n",
      "Functions are \"self contained\" modules of code that accomplish a specific task.\n",
      "key -->  bug\n",
      "key -->  Loop\n",
      "key -->  function\n",
      "value --> A software bug is an error, flaw or fault in the design, development, or operation of computer software.\n",
      "value --> Loops are a programming element that repeat a portion of code a set number of times until the desired process is complete.\n",
      "value --> Functions are \"self contained\" modules of code that accomplish a specific task.\n"
     ]
    }
   ],
   "source": [
    "# looping through the items in the dictionary\n",
    "\n",
    "for key in programming_dictionary:\n",
    "    print(key)\n",
    "    print(programming_dictionary[key])\n",
    "\n",
    "for key in programming_dictionary.keys():\n",
    "    print(\"key --> \", key)\n",
    "\n",
    "for value in programming_dictionary.values():\n",
    "    print(\"value -->\", value)"
   ]
  },
  {
   "cell_type": "code",
   "execution_count": 41,
   "metadata": {},
   "outputs": [
    {
     "name": "stdout",
     "output_type": "stream",
     "text": [
      "{'Draco': 'Exceeded Expectations', 'Ron': 'Acceptable', 'John': 'Outstanding', 'Riesta': 'Fail', 'Niltrish': 'Outstanding'}\n"
     ]
    }
   ],
   "source": [
    "student_marks = {\n",
    "    \"Draco\":89,\n",
    "    \"Ron\": 70,\n",
    "    \"John\": 97,\n",
    "    \"Riesta\": 69,\n",
    "    \"Niltrish\" : 97\n",
    "}\n",
    "\n",
    "student_grades = {}\n",
    "\n",
    "for key in student_marks:\n",
    "    mark = student_marks[key]\n",
    "    grade = \"\"\n",
    "    if mark>91: \n",
    "        grade =\"Outstanding\" \n",
    "    elif mark>81 and mark <90:\n",
    "        grade =\"Exceeded Expectations\"\n",
    "    elif mark >=70 and mark<89:\n",
    "        grade =\"Acceptable\"\n",
    "    elif mark<71:\n",
    "        grade =\"Fail\"\n",
    "    \n",
    "    student_grades[key] = grade\n",
    "\n",
    "print(student_grades)"
   ]
  },
  {
   "cell_type": "markdown",
   "metadata": {},
   "source": [
    "### Nesting Lists and Dictionaries\n"
   ]
  },
  {
   "cell_type": "code",
   "execution_count": null,
   "metadata": {},
   "outputs": [],
   "source": [
    "major_cities ={\n",
    "    \"India\" :{\"cities\":[\"Delhi\", \"Mumbai\", \"Kolkatta\", \"Bangalore\"],\"visited\":2}\n",
    "    \"USA\" : {\"cities\":[\"New York\", \"San Francisco\", \"Houston\", \"Detroit\"], \"visited\":2}\n",
    "}\n",
    "travel_log = [\n",
    "    {\n",
    "        \"country\":\"India\",\n",
    "        \"cities_visited\": [\"Chennai\",\"Bangalore\",\"Mumbai\",\"Delhi\"],\n",
    "        \"total_visits\":7\n",
    "        \n",
    "    }\n",
    "]"
   ]
  },
  {
   "cell_type": "code",
   "execution_count": 1,
   "metadata": {},
   "outputs": [
    {
     "name": "stdout",
     "output_type": "stream",
     "text": [
      "I've been to Brazil 5 times.\n",
      "My favourite city was Sao Paulo.\n"
     ]
    }
   ],
   "source": [
    "country = input() # Add country name\n",
    "visits = int(input()) # Number of visits\n",
    "list_of_cities = eval(input()) # create list from formatted string\n",
    "\n",
    "travel_log = [\n",
    "  {\n",
    "    \"country\": \"France\",\n",
    "    \"visits\": 12,\n",
    "    \"cities\": [\"Paris\", \"Lille\", \"Dijon\"]\n",
    "  },\n",
    "  {\n",
    "    \"country\": \"Germany\",\n",
    "    \"visits\": 5,\n",
    "    \"cities\": [\"Berlin\", \"Hamburg\", \"Stuttgart\"]\n",
    "  },\n",
    "]\n",
    "# Do NOT change the code above 👆\n",
    "\n",
    "# TODO: Write the function that will allow new countries\n",
    "# to be added to the travel_log. \n",
    "\n",
    "def add_new_country(country, visits, list_of_cities):\n",
    "    \n",
    "    new_addition = {}\n",
    "    new_addition[\"country\"] = country\n",
    "    new_addition[\"visits\"] = visits\n",
    "    new_addition[\"cities\"] = list_of_cities\n",
    "    \n",
    "    travel_log.append(new_addition)  \n",
    "    \n",
    "\n",
    "# Do not change the code below 👇\n",
    "add_new_country(country, visits, list_of_cities)\n",
    "print(f\"I've been to {travel_log[2]['country']} {travel_log[2]['visits']} times.\")\n",
    "print(f\"My favourite city was {travel_log[2]['cities'][0]}.\")"
   ]
  },
  {
   "cell_type": "code",
   "execution_count": 9,
   "metadata": {},
   "outputs": [
    {
     "name": "stdout",
     "output_type": "stream",
     "text": [
      "\n",
      "                         ___________\n",
      "                         \\         /\n",
      "                          )_______(\n",
      "                          |\"\"\"\"\"\"\"|_.-._,.---------.,_.-._\n",
      "                          |       | | |               | | ''-.\n",
      "                          |       |_| |_             _| |_..-'\n",
      "                          |_______| '-' `'---------'` '-'\n",
      "                          )\"\"\"\"\"\"\"(\n",
      "                         /_________\\\n",
      "                       .-------------.\n",
      "                      /_______________\\\n",
      "\n"
     ]
    },
    {
     "ename": "NameError",
     "evalue": "name 'clear' is not defined",
     "output_type": "error",
     "traceback": [
      "\u001b[1;31m---------------------------------------------------------------------------\u001b[0m",
      "\u001b[1;31mNameError\u001b[0m                                 Traceback (most recent call last)",
      "Cell \u001b[1;32mIn[9], line 30\u001b[0m\n\u001b[0;32m     27\u001b[0m choice \u001b[38;5;241m=\u001b[39m \u001b[38;5;28minput\u001b[39m(\u001b[38;5;124m\"\u001b[39m\u001b[38;5;124mAre there any other bidders? Type \u001b[39m\u001b[38;5;124m'\u001b[39m\u001b[38;5;124myes\u001b[39m\u001b[38;5;124m'\u001b[39m\u001b[38;5;124m or \u001b[39m\u001b[38;5;124m'\u001b[39m\u001b[38;5;124mno\u001b[39m\u001b[38;5;124m'\u001b[39m\u001b[38;5;124m.\u001b[39m\u001b[38;5;124m\"\u001b[39m)\u001b[38;5;241m.\u001b[39mlower()\n\u001b[0;32m     29\u001b[0m \u001b[38;5;28;01mif\u001b[39;00m choice \u001b[38;5;241m==\u001b[39m \u001b[38;5;124m'\u001b[39m\u001b[38;5;124mno\u001b[39m\u001b[38;5;124m'\u001b[39m:\n\u001b[1;32m---> 30\u001b[0m   \u001b[43mclear\u001b[49m()\n\u001b[0;32m     31\u001b[0m   winner \u001b[38;5;241m=\u001b[39m highest_bidder(bidders)\n\u001b[0;32m     33\u001b[0m   \u001b[38;5;28;01mbreak\u001b[39;00m\n",
      "\u001b[1;31mNameError\u001b[0m: name 'clear' is not defined"
     ]
    }
   ],
   "source": [
    "#from replit import clear\n",
    "#HINT: You can call clear() to clear the output in the console.\n",
    "from logoart import auction\n",
    "\n",
    "print(auction)\n",
    "\n",
    "bidders = {}\t\n",
    "\n",
    "further_bid = True\n",
    "\n",
    "def highest_bidder(bidders):\n",
    "  \n",
    "  highest_bidder = \"\"\n",
    "  highest_bid_amount = 0\n",
    "  for bidder,amount in bidders.items():\n",
    "    value = int(amount.split(\"$\")[0])\n",
    "    if value>highest_bid_amount:\n",
    "      highest_bid_amount = value\n",
    "      highest_bidder = bidder\n",
    "  print(f\"winner is {highest_bidder} with bid amount of {highest_bid_amount}\")\n",
    "\n",
    "while(further_bid):\n",
    "  name = input(\"What is your name?\")\n",
    "  bid  = input(\"enter the bidding amount: \")\n",
    "  bidders[name] = bid\n",
    "\n",
    "  choice = input(\"Are there any other bidders? Type 'yes' or 'no'.\").lower()\n",
    "\n",
    "  if choice == 'no':\n",
    "    # clear()\n",
    "    winner = highest_bidder(bidders)\n",
    "   \n",
    "    break\n",
    "  "
   ]
  },
  {
   "cell_type": "code",
   "execution_count": 4,
   "metadata": {},
   "outputs": [
    {
     "name": "stdout",
     "output_type": "stream",
     "text": [
      "123\n"
     ]
    }
   ],
   "source": [
    "print(\"123$\".split(\"$\")[0])"
   ]
  }
 ],
 "metadata": {
  "kernelspec": {
   "display_name": "Python 3",
   "language": "python",
   "name": "python3"
  },
  "language_info": {
   "codemirror_mode": {
    "name": "ipython",
    "version": 3
   },
   "file_extension": ".py",
   "mimetype": "text/x-python",
   "name": "python",
   "nbconvert_exporter": "python",
   "pygments_lexer": "ipython3",
   "version": "3.11.0"
  }
 },
 "nbformat": 4,
 "nbformat_minor": 2
}
