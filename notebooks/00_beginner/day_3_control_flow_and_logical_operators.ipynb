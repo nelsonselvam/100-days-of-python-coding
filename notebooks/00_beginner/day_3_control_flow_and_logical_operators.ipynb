{
 "cells": [
  {
   "cell_type": "markdown",
   "metadata": {},
   "source": [
    "# Control Flow and Logical operators"
   ]
  },
  {
   "cell_type": "markdown",
   "metadata": {},
   "source": [
    "### if ... elif ... else\n",
    "\n",
    "```\n",
    "    if condition:\n",
    "        do this\n",
    "    elif condition:\n",
    "        do this\n",
    "    else:\n",
    "        do this\n",
    "```"
   ]
  },
  {
   "cell_type": "code",
   "execution_count": 2,
   "metadata": {},
   "outputs": [
    {
     "name": "stdout",
     "output_type": "stream",
     "text": [
      "Welcome to the Rock N Roll Rollercoaster!\n",
      "Sorry, you need to be taller to ride the rollercoaster\n"
     ]
    }
   ],
   "source": [
    "print(\"Welcome to the Rock N Roll Rollercoaster!\")\n",
    "height = int(input(\"What is your height in cm?\"))\n",
    "\n",
    "if height >= 120:\n",
    "    print(\"You can ride the rollercoaster!\")\t\n",
    "else:\n",
    "    print (\"Sorry, you need to be taller to ride the rollercoaster\")"
   ]
  },
  {
   "cell_type": "code",
   "execution_count": 4,
   "metadata": {},
   "outputs": [
    {
     "name": "stdout",
     "output_type": "stream",
     "text": [
      "Given number: 12345 is odd\n"
     ]
    }
   ],
   "source": [
    "# odd or even\n",
    "\n",
    "number = int(input(\"Enter a number that you want to check:\"))\n",
    "\n",
    "if number % 2 == 0:\n",
    "    print(f\"Entered number: {number} is even\")\n",
    "else:\n",
    "    print(f\"Entered number: {number} is odd\")"
   ]
  },
  {
   "cell_type": "markdown",
   "metadata": {},
   "source": [
    "#### nested if .. else statement"
   ]
  },
  {
   "cell_type": "code",
   "execution_count": 1,
   "metadata": {},
   "outputs": [
    {
     "name": "stdout",
     "output_type": "stream",
     "text": [
      "Welcome to the Rock N Roll Rollercoaster!\n",
      "You can ride the rollercoaster!\n",
      "Pay 21$ at the counter for a single ride.\n"
     ]
    }
   ],
   "source": [
    "print(\"Welcome to the Rock N Roll Rollercoaster!\")\n",
    "height = int(input(\"What is your height in cm?\"))\n",
    "age = int(input(\"Enter you age:\"))\n",
    "\n",
    "if height >= 120:\n",
    "    print(\"You can ride the rollercoaster!\")\t\n",
    "    if age < 12:\n",
    "        print(\"Pay 7$ at the counter for a single ride.\")\n",
    "    elif age>12 and age<18:\n",
    "        print(\"Pay 12$ at the counter for a single ride.\")\n",
    "    else:\n",
    "        print(\"Pay 21$ at the counter for a single ride.\")\n",
    "else:\n",
    "    print (\"Sorry, you need to be taller to ride the rollercoaster\")"
   ]
  },
  {
   "cell_type": "code",
   "execution_count": 8,
   "metadata": {},
   "outputs": [
    {
     "name": "stdout",
     "output_type": "stream",
     "text": [
      "Entered year 1404 is leap\n"
     ]
    }
   ],
   "source": [
    "# leap year calculator\n",
    "\n",
    "year = int(input(\"Enter the year\"))\n",
    "\n",
    "if year % 4 == 0:\n",
    "    print(f\"Entered year {year} is leap\")\n",
    "elif year % 100 == 0:\n",
    "    if year % 400 == 0:\n",
    "        print(f\"Entered year {year} is leap\")\n",
    "    else:\n",
    "        print(f\"Entered year {year} is NOT leap\")\n",
    "else:\n",
    "    print(f\"Entered year {year} is NOT leap\") "
   ]
  },
  {
   "cell_type": "code",
   "execution_count": 5,
   "metadata": {},
   "outputs": [
    {
     "name": "stdout",
     "output_type": "stream",
     "text": [
      "Welcome to Python Pizza Delivery\n",
      "You order of a M pizza with add-ons costs 24$\n"
     ]
    }
   ],
   "source": [
    "# Python Pizza Delivery\n",
    "# S - 15$, M - 20$, L - 25$\n",
    "# Additional Toppings for S - 2$, M/L - 3$\n",
    "# Extra Cheese - +1$\n",
    "\n",
    "print(\"Welcome to Python Pizza Delivery\")\n",
    "\n",
    "size = input(\"Enter the size of the pizza: S, M, L\")\n",
    "add_toppings = input(\"Do you need additional toppings? Y or N: \")\n",
    "extra_cheese = input(\"Do you need additional cheese? Y or N: \")\n",
    "\n",
    "price = 0\n",
    "\n",
    "if size == \"S\" :\n",
    "    price += 15\n",
    "elif size == \"M\":\n",
    "    price += 20\n",
    "elif size == \"L\":\n",
    "    price += 25      \n",
    "\n",
    "if size == \"S\" and add_toppings == \"Y\":\n",
    "    price += 2\n",
    "else:\n",
    "    price += 3\n",
    "\n",
    "if extra_cheese == \"Y\":\n",
    "    price += 1\n",
    "\n",
    "print(f\"You order of a {size} pizza with add-ons costs {price}$\")"
   ]
  },
  {
   "cell_type": "markdown",
   "metadata": {},
   "source": [
    "### logical operators\n",
    "\n",
    "- and\n",
    "- or\n",
    "- not"
   ]
  },
  {
   "cell_type": "code",
   "execution_count": 3,
   "metadata": {},
   "outputs": [
    {
     "name": "stdout",
     "output_type": "stream",
     "text": [
      "5\n"
     ]
    }
   ],
   "source": [
    "print(1 and 5)"
   ]
  },
  {
   "cell_type": "code",
   "execution_count": 10,
   "metadata": {},
   "outputs": [
    {
     "name": "stdout",
     "output_type": "stream",
     "text": [
      "Calculating your love score...\n",
      "Jack Titanic & Rose Atlantic -  your score is 63, you are alright.\n"
     ]
    }
   ],
   "source": [
    "# Love Calcuator\n",
    "# Get two names and check the number of times the letters TRUE & LOVE occurs in each name\n",
    "# Sum the number of times in each names and combine them together (not add)\n",
    "\n",
    "print(\"Calculating your love score...\")\n",
    "\n",
    "name_1 = input(\"Enter the first name\")\n",
    "name_2 = input(\"Enter the second name\")\n",
    "\n",
    "# Jack Titanic \n",
    "# Rose Atlantic\n",
    "\n",
    "combined_name = name_1+name_2\n",
    "combined_name = combined_name.lower()\n",
    "\n",
    "count_t = combined_name.count(\"t\")\n",
    "count_r = combined_name.count(\"r\")\n",
    "count_u = combined_name.count(\"u\")\n",
    "count_e = combined_name.count(\"e\")\n",
    "\n",
    "count_true = count_t+count_r+count_u+count_e\n",
    "\n",
    "count_l = combined_name.count(\"l\")\n",
    "count_o = combined_name.count(\"o\")\n",
    "count_v = combined_name.count(\"v\")\n",
    "count_e = combined_name.count(\"e\")\n",
    "\n",
    "count_love = count_l+count_o+count_v+count_e\n",
    "\n",
    "love_score = int(str(count_true) + str(count_love))\n",
    "\n",
    "if (love_score<10) or (love_score>90):\n",
    "    print(f\"{name_1} & {name_2} - your score is {love_score}, you go together like coke and mentos.\")\n",
    "elif (love_score>=40) or (love_score<=50):\n",
    "    print(f\"{name_1} & {name_2} -  your score is {love_score}, you are alright.\")\n",
    "else:\n",
    "    print(f\"{name_1} & {name_2} - your score is {love_score}.\")"
   ]
  },
  {
   "cell_type": "markdown",
   "metadata": {},
   "source": [
    "### Day 3 - Treasure Island"
   ]
  },
  {
   "cell_type": "code",
   "execution_count": 12,
   "metadata": {},
   "outputs": [
    {
     "name": "stderr",
     "output_type": "stream",
     "text": [
      "<>:1: SyntaxWarning: invalid escape sequence '\\`'\n",
      "<>:1: SyntaxWarning: invalid escape sequence '\\`'\n",
      "C:\\Users\\nelso\\AppData\\Local\\Temp\\ipykernel_10028\\2347628967.py:1: SyntaxWarning: invalid escape sequence '\\`'\n",
      "  print('''\n"
     ]
    },
    {
     "name": "stdout",
     "output_type": "stream",
     "text": [
      "\n",
      "*******************************************************************************\n",
      "          |                   |                  |                     |\n",
      " _________|________________.=\"\"_;=.______________|_____________________|_______\n",
      "|                   |  ,-\"_,=\"\"     `\"=.|                  |\n",
      "|___________________|__\"=._o`\"-._        `\"=.______________|___________________\n",
      "          |                `\"=._o`\"=._      _`\"=._                     |\n",
      " _________|_____________________:=._o \"=._.\"_.-=\"'\"=.__________________|_______\n",
      "|                   |    __.--\" , ; `\"=._o.\" ,-\"\"\"-._ \".   |\n",
      "|___________________|_._\"  ,. .` ` `` ,  `\"-._\"-._   \". '__|___________________\n",
      "          |           |o`\"=._` , \"` `; .\". ,  \"-._\"-._; ;              |\n",
      " _________|___________| ;`-.o`\"=._; .\" ` '`.\"\\` . \"-._ /_______________|_______\n",
      "|                   | |o;    `\"-.o`\"=._``  '` \" ,__.--o;   |\n",
      "|___________________|_| ;     (#) `-.o `\"=.`_.--\"_o.-; ;___|___________________\n",
      "____/______/______/___|o;._    \"      `\".o|o_.--\"    ;o;____/______/______/____\n",
      "/______/______/______/_\"=._o--._        ; | ;        ; ;/______/______/______/_\n",
      "____/______/______/______/__\"=._o--._   ;o|o;     _._;o;____/______/______/____\n",
      "/______/______/______/______/____\"=._o._; | ;_.--\"o.--\"_/______/______/______/_\n",
      "____/______/______/______/______/_____\"=.o|o_.--\"\"___/______/______/______/____\n",
      "/______/______/______/______/______/______/______/______/______/______/_____ /\n",
      "*******************************************************************************\n",
      "\n",
      "Welcome to Treasure Island.\n",
      "Your mission is to find the treasure.\n",
      "You get attacked by an angry trout. Game Over.\n"
     ]
    }
   ],
   "source": [
    "print('''\n",
    "*******************************************************************************\n",
    "          |                   |                  |                     |\n",
    " _________|________________.=\"\"_;=.______________|_____________________|_______\n",
    "|                   |  ,-\"_,=\"\"     `\"=.|                  |\n",
    "|___________________|__\"=._o`\"-._        `\"=.______________|___________________\n",
    "          |                `\"=._o`\"=._      _`\"=._                     |\n",
    " _________|_____________________:=._o \"=._.\"_.-=\"'\"=.__________________|_______\n",
    "|                   |    __.--\" , ; `\"=._o.\" ,-\"\"\"-._ \".   |\n",
    "|___________________|_._\"  ,. .` ` `` ,  `\"-._\"-._   \". '__|___________________\n",
    "          |           |o`\"=._` , \"` `; .\". ,  \"-._\"-._; ;              |\n",
    " _________|___________| ;`-.o`\"=._; .\" ` '`.\"\\` . \"-._ /_______________|_______\n",
    "|                   | |o;    `\"-.o`\"=._``  '` \" ,__.--o;   |\n",
    "|___________________|_| ;     (#) `-.o `\"=.`_.--\"_o.-; ;___|___________________\n",
    "____/______/______/___|o;._    \"      `\".o|o_.--\"    ;o;____/______/______/____\n",
    "/______/______/______/_\"=._o--._        ; | ;        ; ;/______/______/______/_\n",
    "____/______/______/______/__\"=._o--._   ;o|o;     _._;o;____/______/______/____\n",
    "/______/______/______/______/____\"=._o._; | ;_.--\"o.--\"_/______/______/______/_\n",
    "____/______/______/______/______/_____\"=.o|o_.--\"\"___/______/______/______/____\n",
    "/______/______/______/______/______/______/______/______/______/______/_____ /\n",
    "*******************************************************************************\n",
    "''')\n",
    "print(\"Welcome to Treasure Island.\")\n",
    "print(\"Your mission is to find the treasure.\")\n",
    "\n",
    "#Write your code below this line 👇\n",
    "\n",
    "choice1 = input('You\\'re at a cross road. Where do you want to go? Type \"left\" or \"right\" \\n').lower()\n",
    "if choice1 == \"left\":\n",
    "  choice2 = input('You\\'ve come to a lake. There is an island in the middle of the lake. Type \"wait\" to wait for a boat. Type \"swim\" to swim across. \\n').lower()\n",
    "  if choice2 == \"wait\":\n",
    "    choice3 = input(\"You arrive at the island unharmed. There is a house with 3 doors. One red, one yellow and one blue. Which colour do you choose? \\n\").lower()\n",
    "    if choice3 == \"red\":\n",
    "      print(\"It's a room full of fire. Game Over.\")\n",
    "    elif choice3 == \"yellow\":\n",
    "      print(\"You found the treasure! You Win!\")\n",
    "    elif choice3 == \"blue\":\n",
    "      print(\"You enter a room of beasts. Game Over.\")\n",
    "    else:\n",
    "      print(\"You chose a door that doesn't exist. Game Over.\")\n",
    "  else:\n",
    "    print(\"You get attacked by an angry trout. Game Over.\")\n",
    "else:\n",
    "  print(\"You fell into a hole. Game Over.\")"
   ]
  }
 ],
 "metadata": {
  "kernelspec": {
   "display_name": "Python 3",
   "language": "python",
   "name": "python3"
  },
  "language_info": {
   "codemirror_mode": {
    "name": "ipython",
    "version": 3
   },
   "file_extension": ".py",
   "mimetype": "text/x-python",
   "name": "python",
   "nbconvert_exporter": "python",
   "pygments_lexer": "ipython3",
   "version": "3.12.1"
  }
 },
 "nbformat": 4,
 "nbformat_minor": 2
}
