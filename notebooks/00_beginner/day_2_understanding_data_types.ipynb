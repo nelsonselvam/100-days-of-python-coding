{
 "cells": [
  {
   "cell_type": "markdown",
   "metadata": {},
   "source": [
    "# Day 2 - Understanding Data Types and working with Strings"
   ]
  },
  {
   "cell_type": "markdown",
   "metadata": {},
   "source": [
    "### Python Primitive Datatypes\n",
    "\n",
    "- String\n",
    "- Integer\n",
    "- Float\n",
    "- Boolean"
   ]
  },
  {
   "cell_type": "markdown",
   "metadata": {},
   "source": [
    "#### Strings"
   ]
  },
  {
   "cell_type": "code",
   "execution_count": 1,
   "metadata": {},
   "outputs": [
    {
     "name": "stdout",
     "output_type": "stream",
     "text": [
      "S\n"
     ]
    }
   ],
   "source": [
    "# Printing the characters in a strin based on the index which starts with Zero always\n",
    "print(\"Subscript\"[0])"
   ]
  },
  {
   "cell_type": "markdown",
   "metadata": {},
   "source": [
    "#### Integer"
   ]
  },
  {
   "cell_type": "code",
   "execution_count": 8,
   "metadata": {},
   "outputs": [
    {
     "name": "stdout",
     "output_type": "stream",
     "text": [
      "123\n",
      "444\n",
      "1234567\n"
     ]
    }
   ],
   "source": [
    "print(123)\n",
    "\n",
    "print(123+321)\n",
    "\n",
    "print(1_234_567)"
   ]
  },
  {
   "cell_type": "code",
   "execution_count": 5,
   "metadata": {},
   "outputs": [
    {
     "ename": "TypeError",
     "evalue": "unsupported operand type(s) for +: 'int' and 'str'",
     "output_type": "error",
     "traceback": [
      "\u001b[1;31m---------------------------------------------------------------------------\u001b[0m",
      "\u001b[1;31mTypeError\u001b[0m                                 Traceback (most recent call last)",
      "Cell \u001b[1;32mIn[5], line 2\u001b[0m\n\u001b[0;32m      1\u001b[0m \u001b[38;5;66;03m# concatenate a string and an integer\u001b[39;00m\n\u001b[1;32m----> 2\u001b[0m \u001b[38;5;28mprint\u001b[39m(\u001b[38;5;241;43m123\u001b[39;49m\u001b[38;5;241;43m+\u001b[39;49m\u001b[38;5;124;43m\"\u001b[39;49m\u001b[38;5;124;43mk\u001b[39;49m\u001b[38;5;124;43m\"\u001b[39;49m)\n",
      "\u001b[1;31mTypeError\u001b[0m: unsupported operand type(s) for +: 'int' and 'str'"
     ]
    }
   ],
   "source": [
    "# concatenate a string and an integer will result in a Type Error\n",
    "print(123+\"k\")"
   ]
  },
  {
   "cell_type": "markdown",
   "metadata": {},
   "source": [
    "#### Float"
   ]
  },
  {
   "cell_type": "code",
   "execution_count": 9,
   "metadata": {},
   "outputs": [
    {
     "name": "stdout",
     "output_type": "stream",
     "text": [
      "3.14159\n"
     ]
    }
   ],
   "source": [
    "print(3.14159)"
   ]
  },
  {
   "cell_type": "markdown",
   "metadata": {},
   "source": [
    "#### Boolean"
   ]
  },
  {
   "cell_type": "code",
   "execution_count": null,
   "metadata": {},
   "outputs": [],
   "source": [
    "print(True)\n",
    "\n",
    "print(False)"
   ]
  },
  {
   "cell_type": "markdown",
   "metadata": {},
   "source": [
    "#### Type Error, Type Casting"
   ]
  },
  {
   "cell_type": "code",
   "execution_count": 13,
   "metadata": {},
   "outputs": [
    {
     "name": "stdout",
     "output_type": "stream",
     "text": [
      "Your name is of length 7\n"
     ]
    }
   ],
   "source": [
    "name_length = len(input(\"Enter your name:\"))\n",
    "\n",
    "# the below will result in a type error, name_length needs to be typecasted to a string\n",
    "# print(\"Your name is of length \"+ name_length)\n",
    "\n",
    "name_length = str(name_length)\n",
    "\n",
    "print(\"Your name is of length \"+ name_length)"
   ]
  },
  {
   "cell_type": "markdown",
   "metadata": {},
   "source": [
    "#### checking the type of a variable"
   ]
  },
  {
   "cell_type": "code",
   "execution_count": 1,
   "metadata": {},
   "outputs": [
    {
     "name": "stdout",
     "output_type": "stream",
     "text": [
      "<class 'str'>\n"
     ]
    }
   ],
   "source": [
    "sample = \"This is a sample string\"\n",
    "\n",
    "print(type(sample))"
   ]
  },
  {
   "cell_type": "code",
   "execution_count": 5,
   "metadata": {},
   "outputs": [
    {
     "name": "stdout",
     "output_type": "stream",
     "text": [
      "<class 'float'>\n",
      "11.77\n"
     ]
    }
   ],
   "source": [
    "price = 10.45\n",
    "\n",
    "print(type(price))\n",
    "\n",
    "print(price + float(\"1.32\"))\n"
   ]
  },
  {
   "cell_type": "code",
   "execution_count": 7,
   "metadata": {},
   "outputs": [
    {
     "name": "stdout",
     "output_type": "stream",
     "text": [
      "13\n"
     ]
    }
   ],
   "source": [
    "# get a two digit number as input and display the sum of two digits in the result\n",
    "\n",
    "two_digit_number = input(\"Enter the two digit number\")\n",
    "\n",
    "print(int(two_digit_number[0])+int(two_digit_number[1]))"
   ]
  },
  {
   "cell_type": "markdown",
   "metadata": {},
   "source": [
    "### Mathematical Operations\n",
    "\n",
    "- Addition +\n",
    "- Subtraction -\n",
    "- Multiplication *\n",
    "- Division / \n",
    "- Exponentiation **\n",
    "\n",
    "The order of priority is the list above read from the bottom, but the parantheses takes priority over all the above.\n",
    "<br> Calculations proceeds from LEFT to RIGHT."
   ]
  },
  {
   "cell_type": "code",
   "execution_count": 11,
   "metadata": {},
   "outputs": [
    {
     "name": "stdout",
     "output_type": "stream",
     "text": [
      "7.0\n"
     ]
    }
   ],
   "source": [
    "# calculation proceeds from left to right\n",
    "print(3 * 3 + 3 / 3 - 3)\n"
   ]
  },
  {
   "cell_type": "markdown",
   "metadata": {},
   "source": [
    "#### Number Manipulation and F Strings"
   ]
  },
  {
   "cell_type": "code",
   "execution_count": 17,
   "metadata": {},
   "outputs": [
    {
     "name": "stdout",
     "output_type": "stream",
     "text": [
      "2\n",
      "2.6666666666666665\n",
      "2\n",
      "3\n",
      "2.67\n"
     ]
    }
   ],
   "source": [
    "# floor division\n",
    "print(8//3)\n",
    "\n",
    "print(8/3)\n",
    "\n",
    "print(int(8/3))\n",
    "\n",
    "print(round(8/3)) # this will result in rounding off\n",
    "\n",
    "print(round(8/3,2)) # rounding off to 2 decimal points"
   ]
  },
  {
   "cell_type": "code",
   "execution_count": 20,
   "metadata": {},
   "outputs": [
    {
     "name": "stdout",
     "output_type": "stream",
     "text": [
      "your score is 1 & your height is 1.67.\n"
     ]
    }
   ],
   "source": [
    "score = 0\n",
    "\n",
    "score += 1  # which is equal to score = score+1\n",
    "\n",
    "height = 1.67\n",
    "\n",
    "print(f\"your score is {score} & your height is {height}.\")"
   ]
  },
  {
   "cell_type": "code",
   "execution_count": 22,
   "metadata": {},
   "outputs": [
    {
     "name": "stdout",
     "output_type": "stream",
     "text": [
      "your age is 56 & you have 1088 weeks left\n"
     ]
    }
   ],
   "source": [
    "age = input(\"Enter your age: \")\n",
    "\n",
    "weeks_left = 4000 - (int(age) * 52)\n",
    "\n",
    "print(f\"your age is {age} & you have {weeks_left} weeks left\")"
   ]
  },
  {
   "cell_type": "markdown",
   "metadata": {},
   "source": [
    "### Day 2 - Tip Calculator\n",
    "\n",
    "Create a tip calculator that accepts the total bill & the percentage of the tip along with the total number of persons to be involved in the split."
   ]
  },
  {
   "cell_type": "code",
   "execution_count": 28,
   "metadata": {},
   "outputs": [
    {
     "name": "stdout",
     "output_type": "stream",
     "text": [
      "Welcome to the Tip Calculator\n",
      "Your bill amount is 167.67$ & you have opted for a tip percentage of 10%. \n",
      "Splitting the bill for 5 persons results in 83.83$ per person. Thanks.\n"
     ]
    }
   ],
   "source": [
    "print(\"Welcome to the Tip Calculator\")\n",
    "bill_amount = input(\"Enter the bill amount: \")\n",
    "tip_percentage = input (\"Enter the tip percentage: 5, 10, 15\")\n",
    "split = int(input(\"Enter the number of persons to split the bill\"))\n",
    "\n",
    "total_bill_amount = float(bill_amount) * float(tip_percentage)\n",
    "\n",
    "individual_split = round((total_bill_amount * split) / 100,2)\n",
    "\n",
    "print(f\"Your bill amount is {bill_amount}$ & you have opted for a tip percentage of {tip_percentage}%. \\nSplitting the bill for {split} persons results in {individual_split}$ per person. Thanks.\")"
   ]
  }
 ],
 "metadata": {
  "kernelspec": {
   "display_name": "Python 3",
   "language": "python",
   "name": "python3"
  },
  "language_info": {
   "codemirror_mode": {
    "name": "ipython",
    "version": 3
   },
   "file_extension": ".py",
   "mimetype": "text/x-python",
   "name": "python",
   "nbconvert_exporter": "python",
   "pygments_lexer": "ipython3",
   "version": "3.12.1"
  }
 },
 "nbformat": 4,
 "nbformat_minor": 2
}
