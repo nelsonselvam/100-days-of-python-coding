{
 "cells": [
  {
   "cell_type": "markdown",
   "metadata": {},
   "source": [
    "## Scoping"
   ]
  },
  {
   "cell_type": "code",
   "execution_count": 1,
   "metadata": {},
   "outputs": [
    {
     "name": "stdout",
     "output_type": "stream",
     "text": [
      "Value inside the function is 2\n",
      "Value outside the function is 1\n"
     ]
    }
   ],
   "source": [
    "num = 1\n",
    "\n",
    "def scoping_function():\n",
    "    num = 2\n",
    "    print(f\"Value inside the function is {num}\")\n",
    "\n",
    "scoping_function()\n",
    "print(f\"Value outside the function is {num}\")\n",
    "    "
   ]
  },
  {
   "cell_type": "markdown",
   "metadata": {},
   "source": [
    "#### Local Scoping"
   ]
  },
  {
   "cell_type": "code",
   "execution_count": 2,
   "metadata": {},
   "outputs": [
    {
     "ename": "NameError",
     "evalue": "name 'local_scope_variable' is not defined",
     "output_type": "error",
     "traceback": [
      "\u001b[1;31m---------------------------------------------------------------------------\u001b[0m",
      "\u001b[1;31mNameError\u001b[0m                                 Traceback (most recent call last)",
      "Cell \u001b[1;32mIn[2], line 5\u001b[0m\n\u001b[0;32m      2\u001b[0m     local_scope_variable \u001b[38;5;241m=\u001b[39m \u001b[38;5;241m3\u001b[39m\n\u001b[0;32m      3\u001b[0m     \u001b[38;5;28mprint\u001b[39m(local_scope_variable)\n\u001b[1;32m----> 5\u001b[0m \u001b[38;5;28mprint\u001b[39m(\u001b[43mlocal_scope_variable\u001b[49m)\n",
      "\u001b[1;31mNameError\u001b[0m: name 'local_scope_variable' is not defined"
     ]
    }
   ],
   "source": [
    "def local_scoped_function():\n",
    "    local_scope_variable = 3    # local scope\n",
    "    print(local_scope_variable)\n",
    "\n",
    "print(local_scope_variable)"
   ]
  },
  {
   "cell_type": "markdown",
   "metadata": {},
   "source": [
    "### Global Scoping"
   ]
  },
  {
   "cell_type": "code",
   "execution_count": 5,
   "metadata": {},
   "outputs": [
    {
     "name": "stdout",
     "output_type": "stream",
     "text": [
      "I'm a global variable\n",
      "2\n"
     ]
    }
   ],
   "source": [
    "global_variable = \"I'm a global variable\"\n",
    "glbl_var = 3\n",
    "\n",
    "def scoped_function():\n",
    "    global glbl_var\n",
    "    glbl_var = 2\n",
    "    print(global_variable)\n",
    "\n",
    "scoped_function()\n",
    "print(glbl_var)"
   ]
  },
  {
   "cell_type": "markdown",
   "metadata": {},
   "source": [
    "### Python Constants and Global Scoping"
   ]
  },
  {
   "cell_type": "code",
   "execution_count": null,
   "metadata": {},
   "outputs": [],
   "source": [
    "# Global Constants\n",
    "PI = 3.14159        # naming convention is ALL UPPERCASE"
   ]
  },
  {
   "cell_type": "code",
   "execution_count": 4,
   "metadata": {},
   "outputs": [
    {
     "name": "stdout",
     "output_type": "stream",
     "text": [
      "Welcome to the number guessing game!\n",
      "I'm thinking of a number between 1 and 100\n",
      "94\n",
      "Too low\n",
      "You have 9 guesses left!\n",
      "Too low\n",
      "You have 8 guesses left!\n",
      "Too low\n",
      "You have 7 guesses left!\n",
      "Too high\n",
      "You have 6 guesses left!\n",
      "Too high\n",
      "You have 5 guesses left!\n"
     ]
    },
    {
     "ename": "ValueError",
     "evalue": "invalid literal for int() with base 10: ''",
     "output_type": "error",
     "traceback": [
      "\u001b[1;31m---------------------------------------------------------------------------\u001b[0m",
      "\u001b[1;31mValueError\u001b[0m                                Traceback (most recent call last)",
      "Cell \u001b[1;32mIn[4], line 40\u001b[0m\n\u001b[0;32m     35\u001b[0m     \u001b[38;5;28;01melse\u001b[39;00m:\n\u001b[0;32m     36\u001b[0m         \u001b[38;5;28mprint\u001b[39m(\u001b[38;5;124m\"\u001b[39m\u001b[38;5;124mBye!\u001b[39m\u001b[38;5;124m\"\u001b[39m)\n\u001b[1;32m---> 40\u001b[0m \u001b[43mguess_game\u001b[49m\u001b[43m(\u001b[49m\u001b[43m)\u001b[49m\n",
      "Cell \u001b[1;32mIn[4], line 20\u001b[0m, in \u001b[0;36mguess_game\u001b[1;34m()\u001b[0m\n\u001b[0;32m     16\u001b[0m \u001b[38;5;28mprint\u001b[39m(number)\n\u001b[0;32m     18\u001b[0m \u001b[38;5;28;01mfor\u001b[39;00m i \u001b[38;5;129;01min\u001b[39;00m \u001b[38;5;28mrange\u001b[39m(\u001b[38;5;241m1\u001b[39m, guesses):\n\u001b[1;32m---> 20\u001b[0m     guess \u001b[38;5;241m=\u001b[39m \u001b[38;5;28;43mint\u001b[39;49m\u001b[43m(\u001b[49m\u001b[38;5;28;43minput\u001b[39;49m\u001b[43m(\u001b[49m\u001b[38;5;124;43m\"\u001b[39;49m\u001b[38;5;124;43mGuess the number \u001b[39;49m\u001b[38;5;124;43m\"\u001b[39;49m\u001b[43m)\u001b[49m\u001b[43m)\u001b[49m\n\u001b[0;32m     21\u001b[0m     guesses_left \u001b[38;5;241m=\u001b[39m guesses\u001b[38;5;241m-\u001b[39mi\n\u001b[0;32m     22\u001b[0m     \u001b[38;5;28;01mif\u001b[39;00m guess\u001b[38;5;241m>\u001b[39mnumber:\n",
      "\u001b[1;31mValueError\u001b[0m: invalid literal for int() with base 10: ''"
     ]
    }
   ],
   "source": [
    "import random\n",
    "\n",
    "def guess_game():\n",
    "    \n",
    "    print(\"Welcome to the number guessing game!\")\n",
    "    print(\"I'm thinking of a number between 1 and 100\")\n",
    "\n",
    "    difficulty = input(\"Choose difficulty: 'e' for easy and 'h' for 'hard' \")\n",
    "\n",
    "    if (difficulty == 'e'):\n",
    "        guesses = 10\n",
    "    elif difficulty == 'h':\n",
    "        guesses = 5\n",
    "\n",
    "    number = random.randint(1, 100)\n",
    "    print(number)\n",
    "    \n",
    "    for i in range(1, guesses):\n",
    "\n",
    "        guess = int(input(\"Guess the number \"))\n",
    "        guesses_left = guesses-i\n",
    "        if guess>number:\n",
    "            print(\"Too high\")\n",
    "            print(f\"You have {guesses_left} guesses left!\")\n",
    "        elif guess<number:\n",
    "            print(\"Too low\")\n",
    "            print(f\"You have {guesses_left} guesses left!\")\n",
    "        else:\n",
    "            print(f\"You won, the number is {number}\")\n",
    "            break\n",
    "\n",
    "    user_choice = input(\"Do you want to continue? [y/n]\")\n",
    "    if user_choice == 'y':\n",
    "        guess_game()\n",
    "    else:\n",
    "        print(\"Bye!\")\n",
    "    \n",
    "     \n",
    "\n",
    "guess_game()"
   ]
  }
 ],
 "metadata": {
  "kernelspec": {
   "display_name": "Python 3",
   "language": "python",
   "name": "python3"
  },
  "language_info": {
   "codemirror_mode": {
    "name": "ipython",
    "version": 3
   },
   "file_extension": ".py",
   "mimetype": "text/x-python",
   "name": "python",
   "nbconvert_exporter": "python",
   "pygments_lexer": "ipython3",
   "version": "3.11.0"
  }
 },
 "nbformat": 4,
 "nbformat_minor": 2
}
